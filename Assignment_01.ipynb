{
  "nbformat": 4,
  "nbformat_minor": 0,
  "metadata": {
    "colab": {
      "name": "Copy of Untitled16.ipynb",
      "provenance": [],
      "collapsed_sections": [],
      "authorship_tag": "ABX9TyPxDJU/M+RLukKg3jXIxxs5",
      "include_colab_link": true
    },
    "kernelspec": {
      "name": "python3",
      "display_name": "Python 3"
    },
    "language_info": {
      "name": "python"
    }
  },
  "cells": [
    {
      "cell_type": "markdown",
      "metadata": {
        "id": "view-in-github",
        "colab_type": "text"
      },
      "source": [
        "<a href=\"https://colab.research.google.com/github/satyhim/Assignments/blob/main/Assignment_01.ipynb\" target=\"_parent\"><img src=\"https://colab.research.google.com/assets/colab-badge.svg\" alt=\"Open In Colab\"/></a>"
      ]
    },
    {
      "cell_type": "markdown",
      "source": [
        "#Assignment Number 01"
      ],
      "metadata": {
        "id": "bbHUabDTsKnR"
      }
    },
    {
      "cell_type": "markdown",
      "source": [
        "**Q.1) What is a List?**"
      ],
      "metadata": {
        "id": "13dpL1Q3sQLv"
      }
    },
    {
      "cell_type": "markdown",
      "source": [
        "**Ans:** = \n",
        "\n",
        "A list is a group of individual objects as a single entity where insertion order needs to be preserved and duplicates are allowed\n",
        "A list is a data structure in Python that is a mutable, or changeable, ordered sequence of elements.\n",
        "\n",
        "**Specifications of list:**\n",
        "\n",
        "1) Heterogeneous objects are allowed.\n",
        "\n",
        "2) In List the elements will be placed within square brackets and with comma seperator.\n",
        "\n",
        "3) We can differentiate duplicate elements by using index and we can preserve insertion order by using index. Hence index will play very important role.\n",
        "\n",
        "4) List objects are mutable.\n"
      ],
      "metadata": {
        "id": "LSFvW4BOsUZO"
      }
    },
    {
      "cell_type": "code",
      "source": [
        "#List examples :\n",
        "X=[]\n",
        "print(X)\n",
        "print(type(X))"
      ],
      "metadata": {
        "colab": {
          "base_uri": "https://localhost:8080/"
        },
        "id": "XJjCSxH3ub5i",
        "outputId": "73e8c05b-0e4b-4fac-ca7d-43cd876902d2"
      },
      "execution_count": null,
      "outputs": [
        {
          "output_type": "stream",
          "name": "stdout",
          "text": [
            "[]\n",
            "<class 'list'>\n"
          ]
        }
      ]
    },
    {
      "cell_type": "markdown",
      "source": [
        "**Q.2) What is a Tuple?**"
      ],
      "metadata": {
        "id": "m0xz_Yfuu2nr"
      }
    },
    {
      "cell_type": "markdown",
      "source": [
        "**Ans: =**\n",
        "\n",
        "Tuple is exactly same as List except that it is immutable. Once we creates Tuple object, we cannot perform any changes in that object. \n",
        "\n",
        "Hence Tuple is Read only version of List.\n",
        "\n",
        "**Specifications of Tuple:**\n",
        "\n",
        "1)Tuple is Read only version of List.\n",
        "\n",
        "2)Insertion Order is preserved Duplicates are allowed Heterogeneous objects are allowed.\n",
        "\n",
        "3)If our data is fixed and never changes then we should go for Tuple. \n",
        "\n",
        "4)A tuple is created by placing all the items (elements) inside parentheses (), separated by commas. The parentheses are optional, however, it is a good practice to use them."
      ],
      "metadata": {
        "id": "GO4I7nlgu6o9"
      }
    },
    {
      "cell_type": "code",
      "source": [
        "#Tuple Example :\n",
        "# Empty tuple\n",
        "my_tuple = ()\n",
        "print(my_tuple)\n"
      ],
      "metadata": {
        "colab": {
          "base_uri": "https://localhost:8080/"
        },
        "id": "zbXduqibw-Lm",
        "outputId": "50514511-b686-4146-e6c1-91c2fecc1b48"
      },
      "execution_count": null,
      "outputs": [
        {
          "output_type": "stream",
          "name": "stdout",
          "text": [
            "()\n"
          ]
        }
      ]
    },
    {
      "cell_type": "code",
      "source": [
        "# tuple with mixed datatypes\n",
        "my_tuple = (1, \"Hello\", 3.4)\n",
        "print(my_tuple)"
      ],
      "metadata": {
        "colab": {
          "base_uri": "https://localhost:8080/"
        },
        "id": "aw2wqoEwxGh9",
        "outputId": "a3e6960a-a090-4a7a-dff9-0022414bd4c8"
      },
      "execution_count": null,
      "outputs": [
        {
          "output_type": "stream",
          "name": "stdout",
          "text": [
            "(1, 'Hello', 3.4)\n"
          ]
        }
      ]
    },
    {
      "cell_type": "code",
      "source": [
        "# nested tuple\n",
        "my_tuple = (\"mouse\", [8, 4, 6], (1, 2, 3))\n",
        "print(my_tuple)\n",
        "print(type(my_tuple))"
      ],
      "metadata": {
        "colab": {
          "base_uri": "https://localhost:8080/"
        },
        "id": "5A9Yq-KFxNm2",
        "outputId": "64065e4e-c401-42dd-fdcc-733cf30d20b3"
      },
      "execution_count": null,
      "outputs": [
        {
          "output_type": "stream",
          "name": "stdout",
          "text": [
            "('mouse', [8, 4, 6], (1, 2, 3))\n",
            "<class 'tuple'>\n"
          ]
        }
      ]
    },
    {
      "cell_type": "markdown",
      "source": [
        "***Q.3)What is the difference between List and Tuple? ***"
      ],
      "metadata": {
        "id": "-XBgPFIpxdqw"
      }
    },
    {
      "cell_type": "markdown",
      "source": [
        "**Ans:=**\n",
        "\n",
        "**List =** \n",
        "\n",
        "1)List objects are mutable\n",
        "\n",
        "2)List is a group of comma separated values within square bracket.\n",
        "\n",
        "3)If the content is not fixed and keep on changing then we should go for list.\n",
        "\n",
        "4)List object can not used as keys for dictionaries because keys should be hashable and immutable.\n",
        "\n",
        "5)The literal syntax of list is shown by square bracket [] and square bracket is mandetory.\n",
        "\n",
        "6)List has more functionality than the tuple.\n",
        "\n",
        "\n",
        "\n",
        "**Tuple** =\n",
        "\n",
        "1)Tuple objects are immutable\n",
        "\n",
        "2)Tuple is a group of comma separated values within parenthesis bracket.\n",
        "\n",
        "3)If the contenet is fixed and never changes then we should go for tuple.\n",
        "\n",
        "4)Tuple objects can be used as keys for dictionaries because keys should be hashable and immutable.\n",
        "\n",
        "5)The literal syntax of tuples is shown by parentheses () and parenthesis is not mandetory.\n",
        "\n",
        "6)Tuple had less functionality than the list.\n",
        "\n"
      ],
      "metadata": {
        "id": "sq3CjfykzVAz"
      }
    },
    {
      "cell_type": "markdown",
      "source": [
        "**Q.4) Python Program to find the largest element in the list**"
      ],
      "metadata": {
        "id": "7Kw5DBZG3GxU"
      }
    },
    {
      "cell_type": "code",
      "source": [
        "# printing the maximum element\n",
        "list_new=[12,58,74,96,84,99,888,5,2,1,6]\n",
        "print(\"Largest element is:\", max(list_new))"
      ],
      "metadata": {
        "colab": {
          "base_uri": "https://localhost:8080/"
        },
        "id": "D-iDi49P4h80",
        "outputId": "a5cd7cff-6685-4eb7-9583-a5b97bc91e9e"
      },
      "execution_count": null,
      "outputs": [
        {
          "output_type": "stream",
          "name": "stdout",
          "text": [
            "Largest element is: 888\n"
          ]
        }
      ]
    },
    {
      "cell_type": "code",
      "source": [
        "# second method:\n",
        "list2=sorted(list_new)\n",
        "print(list2)\n",
        "print(\"Largest element is:\", list2[-1])"
      ],
      "metadata": {
        "colab": {
          "base_uri": "https://localhost:8080/"
        },
        "id": "ZR01u_a25xFT",
        "outputId": "a3885892-1b7d-4a7a-de19-e9c5cb8ac7b0"
      },
      "execution_count": null,
      "outputs": [
        {
          "output_type": "stream",
          "name": "stdout",
          "text": [
            "[1, 2, 5, 6, 12, 58, 74, 84, 96, 99, 888]\n",
            "Largest element is: 888\n"
          ]
        }
      ]
    },
    {
      "cell_type": "code",
      "source": [
        "#third method:\n",
        "list1 = []\n",
        "num=int(input(\"Enter number of elements in list1: \"))\n",
        "for i in range(1,num+1):\n",
        "    ele=int(input(\"Enter elements: \"))\n",
        "    list1.append(ele)\n",
        "    print(\"Largest element is:\", max(list1))"
      ],
      "metadata": {
        "colab": {
          "base_uri": "https://localhost:8080/",
          "height": 252
        },
        "id": "CXXnOJST5-dV",
        "outputId": "5c5d2129-d6c9-4a03-c212-4c8114e005a0"
      },
      "execution_count": null,
      "outputs": [
        {
          "name": "stdout",
          "output_type": "stream",
          "text": [
            "Enter number of elements in list1: 1,2\n"
          ]
        },
        {
          "output_type": "error",
          "ename": "ValueError",
          "evalue": "ignored",
          "traceback": [
            "\u001b[0;31m---------------------------------------------------------------------------\u001b[0m",
            "\u001b[0;31mValueError\u001b[0m                                Traceback (most recent call last)",
            "\u001b[0;32m<ipython-input-11-06d1d2a93fd4>\u001b[0m in \u001b[0;36m<module>\u001b[0;34m()\u001b[0m\n\u001b[1;32m      1\u001b[0m \u001b[0;31m#third method:\u001b[0m\u001b[0;34m\u001b[0m\u001b[0;34m\u001b[0m\u001b[0;34m\u001b[0m\u001b[0m\n\u001b[1;32m      2\u001b[0m \u001b[0mlist1\u001b[0m \u001b[0;34m=\u001b[0m \u001b[0;34m[\u001b[0m\u001b[0;34m]\u001b[0m\u001b[0;34m\u001b[0m\u001b[0;34m\u001b[0m\u001b[0m\n\u001b[0;32m----> 3\u001b[0;31m \u001b[0mnum\u001b[0m\u001b[0;34m=\u001b[0m\u001b[0mint\u001b[0m\u001b[0;34m(\u001b[0m\u001b[0minput\u001b[0m\u001b[0;34m(\u001b[0m\u001b[0;34m\"Enter number of elements in list1: \"\u001b[0m\u001b[0;34m)\u001b[0m\u001b[0;34m)\u001b[0m\u001b[0;34m\u001b[0m\u001b[0;34m\u001b[0m\u001b[0m\n\u001b[0m\u001b[1;32m      4\u001b[0m \u001b[0;32mfor\u001b[0m \u001b[0mi\u001b[0m \u001b[0;32min\u001b[0m \u001b[0mrange\u001b[0m\u001b[0;34m(\u001b[0m\u001b[0;36m1\u001b[0m\u001b[0;34m,\u001b[0m\u001b[0mnum\u001b[0m\u001b[0;34m+\u001b[0m\u001b[0;36m1\u001b[0m\u001b[0;34m)\u001b[0m\u001b[0;34m:\u001b[0m\u001b[0;34m\u001b[0m\u001b[0;34m\u001b[0m\u001b[0m\n\u001b[1;32m      5\u001b[0m     \u001b[0mele\u001b[0m \u001b[0;34m=\u001b[0m \u001b[0mint\u001b[0m\u001b[0;34m(\u001b[0m\u001b[0minput\u001b[0m\u001b[0;34m(\u001b[0m\u001b[0;34m\"Enter elements: \"\u001b[0m\u001b[0;34m)\u001b[0m\u001b[0;34m)\u001b[0m\u001b[0;34m\u001b[0m\u001b[0;34m\u001b[0m\u001b[0m\n",
            "\u001b[0;31mValueError\u001b[0m: invalid literal for int() with base 10: '1,2'"
          ]
        }
      ]
    },
    {
      "cell_type": "markdown",
      "source": [
        "**Q.5) Python program to interchange first and last elements in a list.**"
      ],
      "metadata": {
        "id": "FAgcekBqPRAl"
      }
    },
    {
      "cell_type": "code",
      "source": [
        "# Swap function\n",
        "def swapList(newList):\n",
        "     \n",
        "    newList[0], newList[-1] = newList[-1], newList[0]\n",
        " \n",
        "    return newList"
      ],
      "metadata": {
        "id": "X7bnXK9vSxay"
      },
      "execution_count": null,
      "outputs": []
    },
    {
      "cell_type": "code",
      "source": [
        "newList = [100, 350, 59, 546, 200]\n",
        "print(swapList(newList))"
      ],
      "metadata": {
        "colab": {
          "base_uri": "https://localhost:8080/"
        },
        "id": "NPMEqkuRTDCA",
        "outputId": "1fd19847-e2c0-4791-9bc5-e6904147d8f8"
      },
      "execution_count": null,
      "outputs": [
        {
          "output_type": "stream",
          "name": "stdout",
          "text": [
            "[200, 350, 59, 546, 100]\n"
          ]
        }
      ]
    },
    {
      "cell_type": "markdown",
      "source": [
        "**Q.6)Python program to swap two elements in a list**"
      ],
      "metadata": {
        "id": "QWBpYQNsTP_5"
      }
    },
    {
      "cell_type": "code",
      "source": [
        "# Swap function\n",
        "def swapPositions(list, pos1, pos2):\n",
        "     \n",
        "    list[pos1], list[pos2] = list[pos2], list[pos1]\n",
        "    return list\n",
        " \n",
        "# Driver function\n",
        "List = [23, 65, 19, 90]\n",
        "pos1, pos2  = 1, 3\n",
        " \n",
        "print(swapPositions(List, pos1-1, pos2-1))"
      ],
      "metadata": {
        "colab": {
          "base_uri": "https://localhost:8080/"
        },
        "id": "uUxsyeAuTT0p",
        "outputId": "64a172a7-1d65-4ba3-c3fd-a7f30d9b379d"
      },
      "execution_count": null,
      "outputs": [
        {
          "output_type": "stream",
          "name": "stdout",
          "text": [
            "[19, 65, 23, 90]\n"
          ]
        }
      ]
    },
    {
      "cell_type": "markdown",
      "source": [
        "**Q.7)Python program to Reverse a List**"
      ],
      "metadata": {
        "id": "laZnb6YnT17S"
      }
    },
    {
      "cell_type": "code",
      "source": [
        "#method 1 =\n",
        "def Reverse(s):\n",
        "    s.reverse()\n",
        "    return s\n",
        "\n",
        "s=[1,2,3,4,5,6]\n",
        "print(Reverse(s))\n"
      ],
      "metadata": {
        "colab": {
          "base_uri": "https://localhost:8080/"
        },
        "id": "J1qExRBcT46D",
        "outputId": "aec9ba24-3cbd-406b-d77f-dfcafa363bf4"
      },
      "execution_count": null,
      "outputs": [
        {
          "output_type": "stream",
          "name": "stdout",
          "text": [
            "[6, 5, 4, 3, 2, 1]\n"
          ]
        }
      ]
    },
    {
      "cell_type": "code",
      "source": [
        "#method 2\n",
        "def Reverse(s):\n",
        "    new_s = s[::-1]\n",
        "    return new_s\n",
        "     \n",
        "s = [10, 11, 12, 13, 14, 15]\n",
        "print(Reverse(s))"
      ],
      "metadata": {
        "colab": {
          "base_uri": "https://localhost:8080/"
        },
        "id": "bP9gMUEWVsUO",
        "outputId": "3e60b9aa-e8c5-40fe-baec-9fb19d159124"
      },
      "execution_count": null,
      "outputs": [
        {
          "output_type": "stream",
          "name": "stdout",
          "text": [
            "[15, 14, 13, 12, 11, 10]\n"
          ]
        }
      ]
    },
    {
      "cell_type": "markdown",
      "source": [
        "**Q.8)Python program to count occurrences of an element in a list**"
      ],
      "metadata": {
        "id": "grqDuNfgWBkW"
      }
    },
    {
      "cell_type": "code",
      "source": [
        "def countX(y, x):\n",
        "    count = 0\n",
        "    for ele in y:\n",
        "        if (ele == x):\n",
        "            count = count + 1\n",
        "    return count"
      ],
      "metadata": {
        "id": "cWgngP-CWOc-"
      },
      "execution_count": null,
      "outputs": []
    },
    {
      "cell_type": "code",
      "source": [
        "y=[5,4,6,5,4,6,5,4,6,9,8,7,9,8,7,9,8,7,8,8,8]\n",
        "x=8\n",
        "print('{} has occurred {} times'.format(x, countX(y, x)))"
      ],
      "metadata": {
        "colab": {
          "base_uri": "https://localhost:8080/"
        },
        "id": "iL2wwE_HWVvd",
        "outputId": "26e82745-0287-4356-8019-e30762427e43"
      },
      "execution_count": null,
      "outputs": [
        {
          "output_type": "stream",
          "name": "stdout",
          "text": [
            "8 has occurred 6 times\n"
          ]
        }
      ]
    },
    {
      "cell_type": "markdown",
      "source": [
        "**Q.9)Python program to find the sum of elements in a list**"
      ],
      "metadata": {
        "id": "Z8gE-k7NW1z1"
      }
    },
    {
      "cell_type": "code",
      "source": [
        "Numbers = [5,10,15,20,25,30]\n",
        " \n",
        "# using sum() function\n",
        "total = sum(Numbers)\n",
        " \n",
        "print(\"Sum of all elements in given list: \", total)"
      ],
      "metadata": {
        "colab": {
          "base_uri": "https://localhost:8080/"
        },
        "id": "4H6X5qB9W38w",
        "outputId": "51988324-e6c6-4ccd-f660-127066a5b07a"
      },
      "execution_count": null,
      "outputs": [
        {
          "output_type": "stream",
          "name": "stdout",
          "text": [
            "Sum of all elements in given list:  105\n"
          ]
        }
      ]
    },
    {
      "cell_type": "code",
      "source": [
        "#method 2\n",
        "num = [5,10,15]\n",
        "def sumOfList(num, size):\n",
        "   if (size == 0):\n",
        "     return 0\n",
        "   else:\n",
        "     return num[size - 1] + sumOfList(num, size - 1)\n",
        "total = sumOfList(num, len(num))\n",
        "print(\"Sum of all elements in given list: \", total)"
      ],
      "metadata": {
        "colab": {
          "base_uri": "https://localhost:8080/"
        },
        "id": "_EggK0E3XcB5",
        "outputId": "0ae2995a-4e68-43cd-9019-a08df0569710"
      },
      "execution_count": null,
      "outputs": [
        {
          "output_type": "stream",
          "name": "stdout",
          "text": [
            "Sum of all elements in given list:  30\n"
          ]
        }
      ]
    },
    {
      "cell_type": "markdown",
      "source": [
        "**Q.10)Python program to Multiply all numbers in the list**"
      ],
      "metadata": {
        "id": "HNz6DSUyYD1i"
      }
    },
    {
      "cell_type": "code",
      "source": [
        "def multiplyList(myList) :\n",
        "    result = 1\n",
        "    for x in myList:\n",
        "         result = result * x\n",
        "    return result"
      ],
      "metadata": {
        "id": "XfzgAXiPYGNJ"
      },
      "execution_count": null,
      "outputs": []
    },
    {
      "cell_type": "code",
      "source": [
        "list1 = [1,1, 1]\n",
        "list2 = [2, 2, 2]\n",
        "print(multiplyList(list1))\n",
        "print(multiplyList(list2))"
      ],
      "metadata": {
        "colab": {
          "base_uri": "https://localhost:8080/"
        },
        "id": "yWaMwLFiYWm7",
        "outputId": "2d377d22-e1f4-4428-a995-f7675625034d"
      },
      "execution_count": null,
      "outputs": [
        {
          "output_type": "stream",
          "name": "stdout",
          "text": [
            "1\n",
            "8\n"
          ]
        }
      ]
    },
    {
      "cell_type": "code",
      "source": [
        "# list using math.prod\n",
        " \n",
        "import math\n",
        "list1 = [1, 2, 3]\n",
        "list2 = [3, 2, 4]\n",
        " \n",
        " \n",
        "result1 = math.prod(list1)\n",
        "result2 = math.prod(list2)\n",
        "print(result1)\n",
        "print(result2)"
      ],
      "metadata": {
        "colab": {
          "base_uri": "https://localhost:8080/",
          "height": 234
        },
        "id": "9QbMCqadYq6-",
        "outputId": "1d0d2460-6418-4aac-a14d-3dc99fef7c8e"
      },
      "execution_count": null,
      "outputs": [
        {
          "output_type": "error",
          "ename": "AttributeError",
          "evalue": "ignored",
          "traceback": [
            "\u001b[0;31m---------------------------------------------------------------------------\u001b[0m",
            "\u001b[0;31mAttributeError\u001b[0m                            Traceback (most recent call last)",
            "\u001b[0;32m<ipython-input-27-a71a3bd3c3ce>\u001b[0m in \u001b[0;36m<module>\u001b[0;34m()\u001b[0m\n\u001b[1;32m      6\u001b[0m \u001b[0;34m\u001b[0m\u001b[0m\n\u001b[1;32m      7\u001b[0m \u001b[0;34m\u001b[0m\u001b[0m\n\u001b[0;32m----> 8\u001b[0;31m \u001b[0mresult1\u001b[0m \u001b[0;34m=\u001b[0m \u001b[0mmath\u001b[0m\u001b[0;34m.\u001b[0m\u001b[0mprod\u001b[0m\u001b[0;34m(\u001b[0m\u001b[0mlist1\u001b[0m\u001b[0;34m)\u001b[0m\u001b[0;34m\u001b[0m\u001b[0;34m\u001b[0m\u001b[0m\n\u001b[0m\u001b[1;32m      9\u001b[0m \u001b[0mresult2\u001b[0m \u001b[0;34m=\u001b[0m \u001b[0mmath\u001b[0m\u001b[0;34m.\u001b[0m\u001b[0mprod\u001b[0m\u001b[0;34m(\u001b[0m\u001b[0mlist2\u001b[0m\u001b[0;34m)\u001b[0m\u001b[0;34m\u001b[0m\u001b[0;34m\u001b[0m\u001b[0m\n\u001b[1;32m     10\u001b[0m \u001b[0mprint\u001b[0m\u001b[0;34m(\u001b[0m\u001b[0mresult1\u001b[0m\u001b[0;34m)\u001b[0m\u001b[0;34m\u001b[0m\u001b[0;34m\u001b[0m\u001b[0m\n",
            "\u001b[0;31mAttributeError\u001b[0m: module 'math' has no attribute 'prod'"
          ]
        }
      ]
    },
    {
      "cell_type": "markdown",
      "source": [
        "**Q.11)What are the ways to find the length of a list**"
      ],
      "metadata": {
        "id": "fzcQ_WBMY_r6"
      }
    },
    {
      "cell_type": "markdown",
      "source": [
        "**Ans:**\n",
        "\n",
        "1) len function\n",
        "2) Naive Method\n",
        "3) Using length_hint()"
      ],
      "metadata": {
        "id": "0lFTAvnXZ8pq"
      }
    },
    {
      "cell_type": "code",
      "source": [
        "#Using len() function:\n",
        "s=[1,2,5,8,4,96,18,54,35,78955,62114,85,21,5]\n",
        "print(\"The length of the list is:\", len(s))"
      ],
      "metadata": {
        "colab": {
          "base_uri": "https://localhost:8080/"
        },
        "id": "V8LeW8rzZDUa",
        "outputId": "045a7255-6b71-4e99-e315-60ccde2a1d11"
      },
      "execution_count": null,
      "outputs": [
        {
          "output_type": "stream",
          "name": "stdout",
          "text": [
            "The length of the list is: 14\n"
          ]
        }
      ]
    },
    {
      "cell_type": "code",
      "source": [
        "#Naive Method :\n",
        "# Initializing list\n",
        "test_list = [ 1, 4, 5, 7, 8 ]\n",
        " \n",
        "# Printing test_list\n",
        "print (\"The list is : \" + str(test_list))\n",
        " \n",
        "# Finding length of list\n",
        "# using loop\n",
        "# Initializing counter\n",
        "counter = 0\n",
        "for i in test_list:\n",
        "     \n",
        "    # incrementing counter\n",
        "    counter = counter + 1\n",
        " \n",
        "# Printing length of list\n",
        "print (\"Length of list using naive method is : \" + str(counter))"
      ],
      "metadata": {
        "colab": {
          "base_uri": "https://localhost:8080/"
        },
        "id": "bf8P-fS9aEeS",
        "outputId": "c8f47c23-0ab9-47b7-bf9f-a4d6a5a52ac0"
      },
      "execution_count": null,
      "outputs": [
        {
          "output_type": "stream",
          "name": "stdout",
          "text": [
            "The list is : [1, 4, 5, 7, 8]\n",
            "Length of list using naive method is : 5\n"
          ]
        }
      ]
    },
    {
      "cell_type": "code",
      "source": [
        "#3) Using length_hint()\n",
        "# using len() and length_hint\n",
        "from operator import length_hint\n",
        " \n",
        "# Initializing list\n",
        "test_list = [ 1, 4, 5, 7, 8 ]\n",
        " \n",
        "# Printing test_list\n",
        "print (\"The list is : \" + str(test_list))\n",
        " \n",
        "# Finding length of list\n",
        "# using len()\n",
        "list_len = len(test_list)\n",
        " \n",
        "# Finding length of list\n",
        "# using length_hint()\n",
        "list_len_hint = length_hint(test_list)\n",
        " \n",
        "# Printing length of list\n",
        "print (\"Length of list using len() is : \" + str(list_len))\n",
        "print (\"Length of list using length_hint() is : \" + str(list_len_hint))"
      ],
      "metadata": {
        "colab": {
          "base_uri": "https://localhost:8080/"
        },
        "id": "bMbhCVckacdU",
        "outputId": "0d910dcc-48a4-4b8f-da12-0b93e1ba2e7e"
      },
      "execution_count": null,
      "outputs": [
        {
          "output_type": "stream",
          "name": "stdout",
          "text": [
            "The list is : [1, 4, 5, 7, 8]\n",
            "Length of list using len() is : 5\n",
            "Length of list using length_hint() is : 5\n"
          ]
        }
      ]
    },
    {
      "cell_type": "markdown",
      "source": [
        "**Q.12)Python program to find the smallest and largest number in a list (Without min-max function)**"
      ],
      "metadata": {
        "id": "YHF269xWak60"
      }
    },
    {
      "cell_type": "code",
      "source": [
        "#Python program to find smallest number in a list :\n",
        "x=[5,4,6,8,7,9,3,2,5,4]\n",
        "x.sort()\n",
        "print(\"Smallest element is:\", x[:1])\n",
        "print(\"Smallest element is:\", x[0])"
      ],
      "metadata": {
        "colab": {
          "base_uri": "https://localhost:8080/"
        },
        "id": "pOdYP8W5a0h8",
        "outputId": "42b6ab49-8c67-407c-fce1-fc88dbb09c39"
      },
      "execution_count": null,
      "outputs": [
        {
          "output_type": "stream",
          "name": "stdout",
          "text": [
            "Smallest element is: [2]\n",
            "Smallest element is: 2\n"
          ]
        }
      ]
    },
    {
      "cell_type": "code",
      "source": [
        "#Method 2 = \n",
        "list1 = []\n",
        "num =int(input(\"Enter number of elements in list:\"))\n",
        "for i in range(1, num + 1):\n",
        "    ele= int(input(\"Enter elements: \"))\n",
        "    list1.append(ele)\n",
        "print(\"Smallest element is:\", min(list1))"
      ],
      "metadata": {
        "colab": {
          "base_uri": "https://localhost:8080/",
          "height": 252
        },
        "id": "wqZ0YYVibss_",
        "outputId": "f57d073a-6214-4f95-f096-b2905432a023"
      },
      "execution_count": null,
      "outputs": [
        {
          "name": "stdout",
          "output_type": "stream",
          "text": [
            "Enter number of elements in list:1,2\n"
          ]
        },
        {
          "output_type": "error",
          "ename": "ValueError",
          "evalue": "ignored",
          "traceback": [
            "\u001b[0;31m---------------------------------------------------------------------------\u001b[0m",
            "\u001b[0;31mValueError\u001b[0m                                Traceback (most recent call last)",
            "\u001b[0;32m<ipython-input-37-f292d5a59f2d>\u001b[0m in \u001b[0;36m<module>\u001b[0;34m()\u001b[0m\n\u001b[1;32m      1\u001b[0m \u001b[0;31m#Method 2 =\u001b[0m\u001b[0;34m\u001b[0m\u001b[0;34m\u001b[0m\u001b[0;34m\u001b[0m\u001b[0m\n\u001b[1;32m      2\u001b[0m \u001b[0mlist1\u001b[0m \u001b[0;34m=\u001b[0m \u001b[0;34m[\u001b[0m\u001b[0;34m]\u001b[0m\u001b[0;34m\u001b[0m\u001b[0;34m\u001b[0m\u001b[0m\n\u001b[0;32m----> 3\u001b[0;31m \u001b[0mnum\u001b[0m \u001b[0;34m=\u001b[0m\u001b[0mint\u001b[0m\u001b[0;34m(\u001b[0m\u001b[0minput\u001b[0m\u001b[0;34m(\u001b[0m\u001b[0;34m\"Enter number of elements in list:\"\u001b[0m\u001b[0;34m)\u001b[0m\u001b[0;34m)\u001b[0m\u001b[0;34m\u001b[0m\u001b[0;34m\u001b[0m\u001b[0m\n\u001b[0m\u001b[1;32m      4\u001b[0m \u001b[0;32mfor\u001b[0m \u001b[0mi\u001b[0m \u001b[0;32min\u001b[0m \u001b[0mrange\u001b[0m\u001b[0;34m(\u001b[0m\u001b[0;36m1\u001b[0m\u001b[0;34m,\u001b[0m \u001b[0mnum\u001b[0m \u001b[0;34m+\u001b[0m \u001b[0;36m1\u001b[0m\u001b[0;34m)\u001b[0m\u001b[0;34m:\u001b[0m\u001b[0;34m\u001b[0m\u001b[0;34m\u001b[0m\u001b[0m\n\u001b[1;32m      5\u001b[0m     \u001b[0mele\u001b[0m\u001b[0;34m=\u001b[0m \u001b[0mint\u001b[0m\u001b[0;34m(\u001b[0m\u001b[0minput\u001b[0m\u001b[0;34m(\u001b[0m\u001b[0;34m\"Enter elements: \"\u001b[0m\u001b[0;34m)\u001b[0m\u001b[0;34m)\u001b[0m\u001b[0;34m\u001b[0m\u001b[0;34m\u001b[0m\u001b[0m\n",
            "\u001b[0;31mValueError\u001b[0m: invalid literal for int() with base 10: '1,2'"
          ]
        }
      ]
    },
    {
      "cell_type": "code",
      "source": [
        "#Python program to find largest number in a list :\n",
        "x=[5,4,6,8,7,9,3,2,5,4]\n",
        "x.sort()\n",
        "print(\"Largest element is:\", x[-1])"
      ],
      "metadata": {
        "colab": {
          "base_uri": "https://localhost:8080/"
        },
        "id": "tfNuyZ46cRbw",
        "outputId": "b91f17fc-ae2c-4328-ff6a-0d9cf704b638"
      },
      "execution_count": null,
      "outputs": [
        {
          "output_type": "stream",
          "name": "stdout",
          "text": [
            "Largest element is: 9\n"
          ]
        }
      ]
    },
    {
      "cell_type": "code",
      "source": [
        "#method2= Without using built in functions in python:\n",
        "def myMax(list1):\n",
        "  \n",
        "    # Assume first number in list is largest\n",
        "    # initially and assign it to variable \"max\"\n",
        "    max = list1[0]\n",
        "   \n",
        "    # Now traverse through the list and compare \n",
        "    # each number with \"max\" value. Whichever is \n",
        "    # largest assign that value to \"max'.\n",
        "    for x in list1:\n",
        "        if x > max :\n",
        "             max = x\n",
        "      \n",
        "    # after complete traversing the list \n",
        "    # return the \"max\" value\n",
        "    return max"
      ],
      "metadata": {
        "id": "EqaOkWgRcznJ"
      },
      "execution_count": null,
      "outputs": []
    },
    {
      "cell_type": "code",
      "source": [
        "list1 = [10, 20, 4, 45, 99]\n",
        "print(\"Largest element is:\", myMax(list1))"
      ],
      "metadata": {
        "colab": {
          "base_uri": "https://localhost:8080/"
        },
        "id": "jfwUBh2Uc7xe",
        "outputId": "2275034c-de23-4872-fc24-336533c0fe4e"
      },
      "execution_count": null,
      "outputs": [
        {
          "output_type": "stream",
          "name": "stdout",
          "text": [
            "Largest element is: 99\n"
          ]
        }
      ]
    },
    {
      "cell_type": "markdown",
      "source": [
        "**Q.13)Python Program to find the area of a circle**"
      ],
      "metadata": {
        "id": "p49BXL66dFgd"
      }
    },
    {
      "cell_type": "code",
      "source": [
        "# Python program to find Area of a circle using inbuild library\n",
        "  \n",
        "import math\n",
        "def area(r):\n",
        " area = math.pi* r*r\n",
        " return print('Area of circle is:' ,area)\n",
        "area(5)"
      ],
      "metadata": {
        "colab": {
          "base_uri": "https://localhost:8080/"
        },
        "id": "yq7gZw97dloq",
        "outputId": "5da497ca-9fab-4a89-ae50-a3ef75381209"
      },
      "execution_count": null,
      "outputs": [
        {
          "output_type": "stream",
          "name": "stdout",
          "text": [
            "Area of circle is: 78.53981633974483\n"
          ]
        }
      ]
    },
    {
      "cell_type": "markdown",
      "source": [
        "**Q.14)Take inputs from the user to make a list. Again take one input from the user and search it in the list and delete that element, if found. Iterate over a list using for loop.**"
      ],
      "metadata": {
        "id": "wPEF6W7Ld-v0"
      }
    },
    {
      "cell_type": "markdown",
      "source": [
        "**Ans:**"
      ],
      "metadata": {
        "id": "q5eLKNISeBWJ"
      }
    },
    {
      "cell_type": "code",
      "source": [
        "x=int(input(\"take any number:\"))\n",
        "y=int(input(\"take any number\"))\n",
        "\n"
      ],
      "metadata": {
        "id": "y4CRL3mV8W1O"
      },
      "execution_count": null,
      "outputs": []
    },
    {
      "cell_type": "code",
      "source": [
        "number=[]\n",
        "x=int(input(\"Enter number of elements in list\"))\n",
        "for i in range(x):\n",
        "    number.append(int(input()))\n",
        "findNum=int(input(\"The number to be deleted is \"))\n",
        "i=0\n",
        "for element in number:\n",
        "    if(element == findNum):\n",
        "        number.pop(i)\n",
        "        x=x-1\n",
        "        i=i-1\n",
        "    i=i+1\n",
        "    \n",
        "print(number)"
      ],
      "metadata": {
        "id": "AWk_TcrQ_Skj",
        "outputId": "c58b55f3-c9af-46b2-b824-1ebdc2fb3f14",
        "colab": {
          "base_uri": "https://localhost:8080/"
        }
      },
      "execution_count": 8,
      "outputs": [
        {
          "output_type": "stream",
          "name": "stdout",
          "text": [
            "Enter number of elements in list4\n",
            "25\n",
            "50\n",
            "75\n",
            "100\n",
            "The number to be deleted is 75\n",
            "[25, 50, 100]\n"
          ]
        }
      ]
    },
    {
      "cell_type": "markdown",
      "source": [
        "**Q.15)You are given a list of integer elements. Make a new list that will store a square of elements of the previous list. (With and without list comprehension)**\n",
        "\n",
        "i. Input_list = [2,5,6,12]\n",
        "\n",
        "ii. Output_list = [4,25,36,144]"
      ],
      "metadata": {
        "id": "2vs9pJ_veEqk"
      }
    },
    {
      "cell_type": "code",
      "source": [
        "Input_list=[2,5,6,12]\n",
        "Output_list=[]\n",
        "for i in Input_list:\n",
        "    Output_list.append(i**2)\n",
        "print(Output_list)\n"
      ],
      "metadata": {
        "id": "NTV_Uf1PDhOT",
        "outputId": "ee86f36b-17b9-4f30-c18d-b2f1da7ce72a",
        "colab": {
          "base_uri": "https://localhost:8080/"
        }
      },
      "execution_count": 15,
      "outputs": [
        {
          "output_type": "stream",
          "name": "stdout",
          "text": [
            "[4, 25, 36, 144]\n"
          ]
        }
      ]
    }
  ]
}