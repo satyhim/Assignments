{
  "nbformat": 4,
  "nbformat_minor": 0,
  "metadata": {
    "colab": {
      "name": "Untitled20.ipynb",
      "provenance": [],
      "authorship_tag": "ABX9TyMJKzIe/fMs7lhAkjAGHoTM",
      "include_colab_link": true
    },
    "kernelspec": {
      "name": "python3",
      "display_name": "Python 3"
    },
    "language_info": {
      "name": "python"
    }
  },
  "cells": [
    {
      "cell_type": "markdown",
      "metadata": {
        "id": "view-in-github",
        "colab_type": "text"
      },
      "source": [
        "<a href=\"https://colab.research.google.com/github/satyhim/Assignments/blob/main/ATM_Code_Assignment.ipynb\" target=\"_parent\"><img src=\"https://colab.research.google.com/assets/colab-badge.svg\" alt=\"Open In Colab\"/></a>"
      ]
    },
    {
      "cell_type": "markdown",
      "source": [
        "#ATM code"
      ],
      "metadata": {
        "id": "xDn4N6KOOCwF"
      }
    },
    {
      "cell_type": "code",
      "execution_count": 8,
      "metadata": {
        "colab": {
          "base_uri": "https://localhost:8080/"
        },
        "id": "Ft3m8MmsOBJg",
        "outputId": "1fb6c96d-4329-442b-985e-ab345e2871e1"
      },
      "outputs": [
        {
          "output_type": "stream",
          "name": "stdout",
          "text": [
            "Welcome to State bank of India\n",
            "Enter your 4 digit pin number: 1988\n",
            "Please choose transactions: 1\n",
            "Enter withdraw amount: 5000\n",
            "Please take your amount: 5000\n"
          ]
        }
      ],
      "source": [
        "#ATM Program\n",
        "print (\"Welcome to State bank of India\")\n",
        "p=int(input(\"Enter your 4 digit pin number: \"))\n",
        "m = 25000\n",
        "if(p == 1234):\n",
        " print(\"1-Withdraw\")\n",
        " print(\"2-Balance Enquiry\")\n",
        " print(\"3-Fast Cash\")\n",
        "c = int(input(\"Please choose transactions: \"))\n",
        "if(c == 1):\n",
        "   w=int(input(\"Enter withdraw amount: \"))\n",
        "   if (w < m and w%100 == 0):\n",
        "    print(\"Please take your amount:\", w)\n",
        "   else:\n",
        "    print(\"Invalid cash\")\n",
        "elif(c==2):\n",
        "   print(\"Your available amount : \",m)\n",
        "\n",
        "elif (c == 3):\n",
        "   print(\"1->5,000\")\n",
        "   print(\"2->10,000\")\n",
        "   print(\"3->15,000\")\n",
        "   print(\"4->20,000\")\n",
        "   f = int(input(\"Enter fast cash option: \"))\n",
        "   if (f == 1 and 5000 < m):\n",
        "    print(\"please take cash 5000\")\n",
        "   elif (f == 2 and 10000 < m):\n",
        "    print(\"please take cash 10000\")\n",
        "   elif (f == 3 and 15000 < m):\n",
        "    print(\"please take cash 15000\")\n",
        "   elif (f == 4 and 20000 < m):\n",
        "    print(\"please take cash 20000\")\n",
        "   else:\n",
        "    print(\"Invalid fast cash option\")\n",
        "else:\n",
        "    print(\"Wrong choice\")"
      ]
    },
    {
      "cell_type": "code",
      "source": [
        "#ATM Program\n",
        "print (\"Welcome to State bank of India\")\n",
        "p=int(input(\"Enter your 4 digit pin number: \"))\n",
        "m = 25000\n",
        "if(p == 1234):\n",
        " print(\"1-Withdraw\")\n",
        " print(\"2-Balance Enquiry\")\n",
        " print(\"3-Fast Cash\")\n",
        "c = int(input(\"Please choose transactions: \"))\n",
        "if(c == 1):\n",
        "   w=int(input(\"Enter withdraw amount: \"))\n",
        "   if (w < m and w%100 == 0):\n",
        "    print(\"Please take your amount:\", w)\n",
        "   else:\n",
        "    print(\"Invalid cash\")\n",
        "elif(c==2):\n",
        "   print(\"Your available amount : \",m)\n",
        "\n",
        "elif (c == 3):\n",
        "   print(\"1->5,000\")\n",
        "   print(\"2->10,000\")\n",
        "   print(\"3->15,000\")\n",
        "   print(\"4->20,000\")\n",
        "   f = int(input(\"Enter fast cash option: \"))\n",
        "   if (f == 1 and 5000 < m):\n",
        "    print(\"please take cash 5000\")\n",
        "   elif (f == 2 and 10000 < m):\n",
        "    print(\"please take cash 10000\")\n",
        "   elif (f == 3 and 15000 < m):\n",
        "    print(\"please take cash 15000\")\n",
        "   elif (f == 4 and 20000 < m):\n",
        "    print(\"please take cash 20000\")\n",
        "   else:\n",
        "    print(\"Invalid fast cash option\")\n",
        "else:\n",
        "    print(\"Wrong choice\")  "
      ],
      "metadata": {
        "colab": {
          "base_uri": "https://localhost:8080/"
        },
        "id": "XyWPqlQSS5xK",
        "outputId": "9b7cd1ce-2373-4bca-cabe-106f7fb4111a"
      },
      "execution_count": 9,
      "outputs": [
        {
          "output_type": "stream",
          "name": "stdout",
          "text": [
            "Welcome to State bank of India\n",
            "Enter your 4 digit pin number: 2000\n",
            "Please choose transactions: 1\n",
            "Enter withdraw amount: 2553\n",
            "Invalid cash\n"
          ]
        }
      ]
    }
  ]
}