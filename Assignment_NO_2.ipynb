{
  "nbformat": 4,
  "nbformat_minor": 0,
  "metadata": {
    "colab": {
      "name": "Copy of Untitled21.ipynb",
      "provenance": [],
      "authorship_tag": "ABX9TyOPZoiKqejPZjbaSTNm3XfZ",
      "include_colab_link": true
    },
    "kernelspec": {
      "name": "python3",
      "display_name": "Python 3"
    },
    "language_info": {
      "name": "python"
    }
  },
  "cells": [
    {
      "cell_type": "markdown",
      "metadata": {
        "id": "view-in-github",
        "colab_type": "text"
      },
      "source": [
        "<a href=\"https://colab.research.google.com/github/satyhim/Assignments/blob/main/Assignment_NO_2.ipynb\" target=\"_parent\"><img src=\"https://colab.research.google.com/assets/colab-badge.svg\" alt=\"Open In Colab\"/></a>"
      ]
    },
    {
      "cell_type": "markdown",
      "source": [
        "#Assignment#2\n",
        "\n",
        "1) What’s The Difference Between The Python append() and extend() Methods?\n",
        "\n",
        "2) Write a Python program to append a list to the second list\n",
        "\n",
        "3) Write a Python program to find the third-largest number in a list\n",
        "\n",
        "4) Write a Python program to get the frequency of the elements in a list.\n",
        "\n",
        "5) Write a Python program to check whether a list contains a sublist\n",
        "\n",
        "6) Write a Python program to generate all sublists of a list\n",
        "\n",
        "7) Write a Python program to find common items from two lists\n",
        "\n",
        "8) How to flatten a list in python?\n",
        "\n",
        "9) How to sort a list in ascending and descending order without using the sort function?\n",
        "\n",
        "10) How to sort a tuple?\n",
        "\n",
        "11) Write a Python program to convert a list of multiple integers into a single integer\n",
        "\n",
        "a. [11, 33, 50] >>> 113350\n",
        "\n",
        "\n",
        "\n",
        "1.Difference between del and clear?\n",
        "\n",
        "2.Difference between remove and pop?\n",
        "\n",
        "3.Difference between indexing and Slicing?\n",
        "\n",
        "4.Difference between sort and sorted?\n",
        "\n",
        "5.Difference between reverse and reversed?\n",
        "\n",
        "6.Difference between copy and deep copy?\n",
        "\n",
        "7.How to check whether the list is empty or not?\n",
        "\n",
        "8.How to concatenate two lists?\n",
        "\n",
        "9.How to find the occurrences of an element in the python list?\n",
        "\n",
        "10.How to flatten a list in python?"
      ],
      "metadata": {
        "id": "eLeBu72zsrTM"
      }
    },
    {
      "cell_type": "markdown",
      "source": [
        "**1) What’s The Difference Between The Python append() and extend() Methods?**"
      ],
      "metadata": {
        "id": "H8KlmjRstsaa"
      }
    },
    {
      "cell_type": "markdown",
      "source": [
        "Python append() method adds an element to a list, and the extend() method concatenates the first list with another list (or another iterable). \n",
        "\n",
        "When append() method adds its argument as a single element to the end of a list, the length of the list itself will increase by one. Whereas extend() method iterates over its argument adding each element to the list, extending the list. The length of the list will increase by however many elements were in the iterable argument."
      ],
      "metadata": {
        "id": "uZ5OUrKjtvP5"
      }
    },
    {
      "cell_type": "code",
      "source": [
        "x=[5,8,9,9,8,5,1,7,2,3]\n",
        "y=[22,22,22]"
      ],
      "metadata": {
        "id": "DuzK9DlsuxIE"
      },
      "execution_count": null,
      "outputs": []
    },
    {
      "cell_type": "code",
      "source": [
        "x.append(100)\n",
        "print(x)"
      ],
      "metadata": {
        "colab": {
          "base_uri": "https://localhost:8080/"
        },
        "id": "8lLkji6xvDzi",
        "outputId": "53590470-8dcf-4625-e272-683bc53192b2"
      },
      "execution_count": null,
      "outputs": [
        {
          "output_type": "stream",
          "name": "stdout",
          "text": [
            "[5, 8, 9, 9, 8, 5, 1, 7, 2, 3, 100, 100]\n"
          ]
        }
      ]
    },
    {
      "cell_type": "code",
      "source": [
        "x.extend(y)\n",
        "print(x)"
      ],
      "metadata": {
        "colab": {
          "base_uri": "https://localhost:8080/"
        },
        "id": "_Cc5_DNzvasC",
        "outputId": "7dc3e13f-4868-40e9-f49e-809c22a5d79d"
      },
      "execution_count": null,
      "outputs": [
        {
          "output_type": "stream",
          "name": "stdout",
          "text": [
            "[5, 8, 9, 9, 8, 5, 1, 7, 2, 3, 100, 100, 22, 22, 22]\n"
          ]
        }
      ]
    },
    {
      "cell_type": "code",
      "source": [
        "x.append(y)\n",
        "print(x)"
      ],
      "metadata": {
        "colab": {
          "base_uri": "https://localhost:8080/"
        },
        "id": "NxG8N7Z_viFM",
        "outputId": "bd23abac-da49-4bdb-dfa8-bc69fea15c3b"
      },
      "execution_count": null,
      "outputs": [
        {
          "output_type": "stream",
          "name": "stdout",
          "text": [
            "[5, 8, 9, 9, 8, 5, 1, 7, 2, 3, 100, 100, 22, 22, 22, [22, 22, 22]]\n"
          ]
        }
      ]
    },
    {
      "cell_type": "markdown",
      "source": [
        "**2) Write a Python program to append a list to the second list**"
      ],
      "metadata": {
        "id": "91GWzj-Svrza"
      }
    },
    {
      "cell_type": "code",
      "source": [
        "#method1\n",
        "l1=[1,2,3]\n",
        "l2=[2,3,4]\n",
        "l3=l1+l2\n",
        "print (l3)"
      ],
      "metadata": {
        "colab": {
          "base_uri": "https://localhost:8080/"
        },
        "id": "m35Gg2r4wWvV",
        "outputId": "2a49bde4-d1c7-43e8-c9b1-8c19e2b67ece"
      },
      "execution_count": null,
      "outputs": [
        {
          "output_type": "stream",
          "name": "stdout",
          "text": [
            "[1, 2, 3, 2, 3, 4]\n"
          ]
        }
      ]
    },
    {
      "cell_type": "code",
      "source": [
        "#method2-using append method\n",
        "l1=[1,2,3]\n",
        "l2=[3,4,5]\n",
        "l1.append(l2)\n",
        "print (l1)"
      ],
      "metadata": {
        "colab": {
          "base_uri": "https://localhost:8080/"
        },
        "id": "JNdLXF9IweFV",
        "outputId": "efcbfbf8-ea18-41b4-bf14-c3b77cbca182"
      },
      "execution_count": null,
      "outputs": [
        {
          "output_type": "stream",
          "name": "stdout",
          "text": [
            "[1, 2, 3, [3, 4, 5]]\n"
          ]
        }
      ]
    },
    {
      "cell_type": "code",
      "source": [
        "#method3-using extend method\n",
        "l1=[1,2,3]\n",
        "l2=[3,4,5]\n",
        "l1.extend(l2)\n",
        "print (l1)"
      ],
      "metadata": {
        "colab": {
          "base_uri": "https://localhost:8080/"
        },
        "id": "IPKi-YcXw3Ey",
        "outputId": "d6aec226-5922-48b5-d302-4264f5cd4c2f"
      },
      "execution_count": null,
      "outputs": [
        {
          "output_type": "stream",
          "name": "stdout",
          "text": [
            "[1, 2, 3, 3, 4, 5]\n"
          ]
        }
      ]
    },
    {
      "cell_type": "markdown",
      "source": [
        "**3) Write a Python program to find the third-largest number in a list**"
      ],
      "metadata": {
        "id": "KC5MXSyVxHab"
      }
    },
    {
      "cell_type": "code",
      "source": [
        "#method1=\n",
        "x=[8,9,4,5,6,8,7,5,2,1,5,8,]\n",
        "x.sort()\n",
        "print(x)\n",
        "print(x[2:3])"
      ],
      "metadata": {
        "colab": {
          "base_uri": "https://localhost:8080/"
        },
        "id": "imbMlnajxIwr",
        "outputId": "7c15e471-855b-43c0-ee80-8ef41ad57bf6"
      },
      "execution_count": null,
      "outputs": [
        {
          "output_type": "stream",
          "name": "stdout",
          "text": [
            "[1, 2, 4, 5, 5, 5, 6, 7, 8, 8, 8, 9]\n",
            "[4]\n"
          ]
        }
      ]
    },
    {
      "cell_type": "code",
      "source": [
        "#method2\n",
        "\n",
        "# Creating list \n",
        "nlist = []\n",
        "n=3\n",
        "int(input(\"Enter the Total Number of List Elements: \"))\n",
        "for i in range(1, n + 1):\n",
        "    value = int(input(\"Enter the Value of %d Element : \" %i))\n",
        "    nlist.append(value)\n",
        "sorted_list = sorted(nlist)\n",
        "print(\"Sorted elements in list :\",sorted_list)\n",
        "print(\"The Third Smallest Element in this List is : \", sorted_list[2])\n",
        "print(\"The Third Largest Element in this List is : \", sorted_list[-3])"
      ],
      "metadata": {
        "colab": {
          "base_uri": "https://localhost:8080/"
        },
        "id": "Yjv-qyWo3A92",
        "outputId": "cb3cb844-9645-4cf4-bc9a-5b85de042e05"
      },
      "execution_count": null,
      "outputs": [
        {
          "output_type": "stream",
          "name": "stdout",
          "text": [
            "Enter the Total Number of List Elements: 5\n",
            "Enter the Value of 1 Element : 25\n",
            "Enter the Value of 2 Element : 85\n",
            "Enter the Value of 3 Element : 46\n",
            "Sorted elements in list : [25, 46, 85]\n",
            "The Third Smallest Element in this List is :  85\n",
            "The Third Largest Element in this List is :  25\n"
          ]
        }
      ]
    },
    {
      "cell_type": "markdown",
      "source": [
        "**4) Write a Python program to get the frequency of the elements in a list.**"
      ],
      "metadata": {
        "id": "VLeOBYKK49xP"
      }
    },
    {
      "cell_type": "code",
      "source": [
        "#Count_method\n",
        "x=[1,3,634,36,26,36,24,26,1,3,1,3,1,55,1]\n",
        "print(x.count(1))\n",
        "print(x.count(26))\n",
        "print(x.count(3))"
      ],
      "metadata": {
        "colab": {
          "base_uri": "https://localhost:8080/"
        },
        "id": "9sMSSMiCRRCW",
        "outputId": "9befe326-6c54-4be4-e8cd-dee68ff4eda1"
      },
      "execution_count": 1,
      "outputs": [
        {
          "output_type": "stream",
          "name": "stdout",
          "text": [
            "5\n",
            "2\n",
            "3\n"
          ]
        }
      ]
    },
    {
      "cell_type": "code",
      "source": [
        "#method2:  \n",
        "My_list = ['A', 'A', 'B', 'C', 'B', 'D', 'D', 'A', 'B']\n",
        "frequency = {}\n",
        "for i in My_list:\n",
        "   if i in frequency:\n",
        "      frequency[i] += 1\n",
        "   else:\n",
        "      frequency[i] = 1\n",
        "print(frequency)"
      ],
      "metadata": {
        "colab": {
          "base_uri": "https://localhost:8080/"
        },
        "id": "oAAWfB90RgEv",
        "outputId": "1a578d54-9aa7-401f-ad50-4c9e9a2995d9"
      },
      "execution_count": 2,
      "outputs": [
        {
          "output_type": "stream",
          "name": "stdout",
          "text": [
            "{'A': 3, 'B': 3, 'C': 1, 'D': 2}\n"
          ]
        }
      ]
    },
    {
      "cell_type": "markdown",
      "source": [
        "**5) Write a Python program to check whether a list contains a sublist**"
      ],
      "metadata": {
        "id": "Z9pGiirvRt4R"
      }
    },
    {
      "cell_type": "code",
      "source": [
        "test_list = [5,4,8,9,6,22,14,54,69]\n",
        "print(\"The original list : \",test_list)\n",
        "sublist = [22,14,54]\n",
        "list1 = False\n",
        "for i in range(len(test_list) - len(sublist) + 1):\n",
        "  if test_list[i : i + len(sublist)] == sublist:\n",
        "    list1= True\n",
        "    break\n",
        "print(\"Is sublist present in list : \",list1)"
      ],
      "metadata": {
        "colab": {
          "base_uri": "https://localhost:8080/"
        },
        "id": "tUS4Y5HjR-Fo",
        "outputId": "0cfba023-eddd-44bc-cae8-712abf38a226"
      },
      "execution_count": 3,
      "outputs": [
        {
          "output_type": "stream",
          "name": "stdout",
          "text": [
            "The original list :  [5, 4, 8, 9, 6, 22, 14, 54, 69]\n",
            "Is sublist present in list :  True\n"
          ]
        }
      ]
    },
    {
      "cell_type": "markdown",
      "source": [
        "**6) Write a Python program to generate all sublists of a list**"
      ],
      "metadata": {
        "id": "cJMFJKuySmWf"
      }
    },
    {
      "cell_type": "code",
      "source": [
        "# Python program to print all \n",
        "# sublist from a given list \n",
        " \n",
        "# function to generate all the sub lists\n",
        "\n",
        "def sub_lists (l):\n",
        "\n",
        "    lists = [[]]\n",
        "\n",
        "    for i in range(len(l) + 1):\n",
        "\n",
        "        for j in range(i):\n",
        "\n",
        "            lists.append(l[j: i])\n",
        "\n",
        "    return lists\n",
        " \n",
        "# driver code\n",
        "\n",
        "l1 = [1, 2, 3,4,5,6,7,8]\n",
        "\n",
        "print(sub_lists(l1))"
      ],
      "metadata": {
        "colab": {
          "base_uri": "https://localhost:8080/"
        },
        "id": "CYnUIS4RSxbX",
        "outputId": "9593d203-ba49-453a-a037-2e46cfba85db"
      },
      "execution_count": 4,
      "outputs": [
        {
          "output_type": "stream",
          "name": "stdout",
          "text": [
            "[[], [1], [1, 2], [2], [1, 2, 3], [2, 3], [3], [1, 2, 3, 4], [2, 3, 4], [3, 4], [4], [1, 2, 3, 4, 5], [2, 3, 4, 5], [3, 4, 5], [4, 5], [5], [1, 2, 3, 4, 5, 6], [2, 3, 4, 5, 6], [3, 4, 5, 6], [4, 5, 6], [5, 6], [6], [1, 2, 3, 4, 5, 6, 7], [2, 3, 4, 5, 6, 7], [3, 4, 5, 6, 7], [4, 5, 6, 7], [5, 6, 7], [6, 7], [7], [1, 2, 3, 4, 5, 6, 7, 8], [2, 3, 4, 5, 6, 7, 8], [3, 4, 5, 6, 7, 8], [4, 5, 6, 7, 8], [5, 6, 7, 8], [6, 7, 8], [7, 8], [8]]\n"
          ]
        }
      ]
    },
    {
      "cell_type": "markdown",
      "source": [
        "**Q 7) Write a Python program to find common items from two lists**"
      ],
      "metadata": {
        "id": "8qGswz4YSz8U"
      }
    },
    {
      "cell_type": "code",
      "source": [
        "a=[1,2,6,3,4,5]\n",
        "b=[9,8,7,2,5,3]\n",
        "def common(lst1, lst2): \n",
        "    return list(set(lst1) & set(lst2))\n",
        "e=common(a,b)\n",
        "print(e)"
      ],
      "metadata": {
        "colab": {
          "base_uri": "https://localhost:8080/"
        },
        "id": "1EVT2XH4S8h0",
        "outputId": "cbb3760b-836b-44d8-e3f1-107918e47a40"
      },
      "execution_count": 5,
      "outputs": [
        {
          "output_type": "stream",
          "name": "stdout",
          "text": [
            "[2, 3, 5]\n"
          ]
        }
      ]
    },
    {
      "cell_type": "markdown",
      "source": [
        "**8)How to flatten a list in python?**"
      ],
      "metadata": {
        "id": "9z8VtSvIS_bY"
      }
    },
    {
      "cell_type": "code",
      "source": [
        "my_list = [[1, 2, 3, 4], [5, 6, 7], [8, 9]]  \n",
        "flist = sum(my_list, [])  \n",
        "print('The old list:', my_list)  \n",
        "print('The Flattened list:', flist)"
      ],
      "metadata": {
        "colab": {
          "base_uri": "https://localhost:8080/"
        },
        "id": "WKPkjlkBTBJd",
        "outputId": "6ca82c3f-d891-41bc-abd0-7322c32bf427"
      },
      "execution_count": 6,
      "outputs": [
        {
          "output_type": "stream",
          "name": "stdout",
          "text": [
            "The old list: [[1, 2, 3, 4], [5, 6, 7], [8, 9]]\n",
            "The Flattened list: [1, 2, 3, 4, 5, 6, 7, 8, 9]\n"
          ]
        }
      ]
    },
    {
      "cell_type": "code",
      "source": [
        "nestedlist = [[1, 2, 3], [3, 5, 6], [4, 6, 7], 7]  \n",
        "# Using lambda parameters: expression  \n",
        "flattenlist = lambda nestedlist:[item for element in nestedlist for item in flattenlist(element)] if type(nestedlist) is list else [nestedlist]  \n",
        "  \n",
        "print(\"The Nested list:\", nestedlist)  \n",
        "print(\"The Flattened List:\", flattenlist(nestedlist))"
      ],
      "metadata": {
        "colab": {
          "base_uri": "https://localhost:8080/"
        },
        "id": "GCcqngnBTMkU",
        "outputId": "ea9122ae-8c04-4edd-cc56-f51f3be1eeb4"
      },
      "execution_count": 7,
      "outputs": [
        {
          "output_type": "stream",
          "name": "stdout",
          "text": [
            "The Nested list: [[1, 2, 3], [3, 5, 6], [4, 6, 7], 7]\n",
            "The Flattened List: [1, 2, 3, 3, 5, 6, 4, 6, 7, 7]\n"
          ]
        }
      ]
    },
    {
      "cell_type": "markdown",
      "source": [
        "**9) How to sort a list in ascending and descending order without using the sort function?**"
      ],
      "metadata": {
        "id": "pfDmLGpyTRg3"
      }
    },
    {
      "cell_type": "code",
      "source": [
        "s=[4,3,2,1,6,8,7,5]\n",
        "for i in range(len(s)):\n",
        "    for j in range(i+1,len(s)):\n",
        "      if s[i]>s[j]:\n",
        "        s[i],s[j]=s[j],s[i]\n",
        "print('Ascending list :',s)\n",
        "for i in range(len(s)):\n",
        "  for j in range(i+1,len(s)):\n",
        "    if s[i]<s[j]:\n",
        "      s[i],s[j]=s[j],s[i]\n",
        "print('Descending list:',s)"
      ],
      "metadata": {
        "colab": {
          "base_uri": "https://localhost:8080/"
        },
        "id": "ecv6pQWbTTsM",
        "outputId": "a2eff96e-6cf9-49ae-f14b-02ee8d4fc694"
      },
      "execution_count": 8,
      "outputs": [
        {
          "output_type": "stream",
          "name": "stdout",
          "text": [
            "Ascending list : [1, 2, 3, 4, 5, 6, 7, 8]\n",
            "Descending list: [8, 7, 6, 5, 4, 3, 2, 1]\n"
          ]
        }
      ]
    },
    {
      "cell_type": "markdown",
      "source": [
        "**10) How to sort a tuple?**\n",
        "\n",
        "To sort a Tuple in Python, use sorted() builtin function. Pass the tuple as argument to sorted() function. The function returns a list with the items of tuple sorted in ascending order. We may convert this list to tuple using tuple().\n",
        "\n",
        "We can also specify the sorting order via reverse parameter to sorted() function. The default sorting order is ascending. reverse=True sorts the items in descending order.\n",
        "\n",
        "Also, we can specify a key function, based on whose returned values, sorting of items is done."
      ],
      "metadata": {
        "id": "O1gRf-0TTVzt"
      }
    },
    {
      "cell_type": "code",
      "source": [
        "aTuple=(2,5,8,6,4,1,9,3,7)\n",
        "result=sorted(aTuple)\n",
        "result=tuple(result)\n",
        "print('Sorted Tuple:',result)"
      ],
      "metadata": {
        "colab": {
          "base_uri": "https://localhost:8080/"
        },
        "id": "PCWUUJXbTcQc",
        "outputId": "7a6eb150-26ec-45b2-d8d5-7fdfa6d6f8ad"
      },
      "execution_count": 9,
      "outputs": [
        {
          "output_type": "stream",
          "name": "stdout",
          "text": [
            "Sorted Tuple: (1, 2, 3, 4, 5, 6, 7, 8, 9)\n"
          ]
        }
      ]
    },
    {
      "cell_type": "markdown",
      "source": [
        "**11) Write a Python program to convert a list of multiple integers into a single integer**"
      ],
      "metadata": {
        "id": "J-cBpVi9TfV8"
      }
    },
    {
      "cell_type": "code",
      "source": [
        "a=[11,33,50]\n",
        "for i in a:\n",
        "  print(i,end=\"\")"
      ],
      "metadata": {
        "colab": {
          "base_uri": "https://localhost:8080/"
        },
        "id": "dhr_tbcYTqSk",
        "outputId": "1dcbb705-e655-46dc-bb92-362f6f49bab8"
      },
      "execution_count": 10,
      "outputs": [
        {
          "output_type": "stream",
          "name": "stdout",
          "text": [
            "113350"
          ]
        }
      ]
    },
    {
      "cell_type": "code",
      "source": [
        "#method2=\n",
        "mint = [11,33,50]\n",
        "print(\"Given multiple integers: \", mint)\n",
        "x = int(\"\".join([str(i) for i in mint]))\n",
        "print(\"The single integer is : \",x)"
      ],
      "metadata": {
        "colab": {
          "base_uri": "https://localhost:8080/"
        },
        "id": "vmOyULBbTzgr",
        "outputId": "326a5adf-0e32-4029-d132-6244a222511b"
      },
      "execution_count": 11,
      "outputs": [
        {
          "output_type": "stream",
          "name": "stdout",
          "text": [
            "Given multiple integers:  [11, 33, 50]\n",
            "The single integer is :  113350\n"
          ]
        }
      ]
    },
    {
      "cell_type": "markdown",
      "source": [
        "**12) Difference between del and clear?**\n",
        "\n",
        "**Del**\n",
        "\n",
        "•del is a keyword\n",
        "\n",
        "•To delete value it uses the index.\n",
        "\n",
        "•The del keyword doesn’t return any value.\n",
        "\n",
        "•The del keyword can delete the single value from a list or delete the whole list at a time.\n",
        "\n",
        "•It throws index error in case of the index doesn’t exist in the list.\n",
        "\n",
        "**Clear**\n",
        "\n",
        "•The clear()function is used to delete all the element in a dictionary.\n",
        "\n",
        "•The clear()fuction is used to delete all the element in a dictionary structure.\n",
        "\n",
        "•Example:Dict.clear()"
      ],
      "metadata": {
        "id": "ma0NhywTT8Tg"
      }
    },
    {
      "cell_type": "code",
      "source": [
        "l=[1,2,3,4]\n",
        "del l\n",
        "print(l)"
      ],
      "metadata": {
        "colab": {
          "base_uri": "https://localhost:8080/",
          "height": 200
        },
        "id": "ZN--Isu2UCdM",
        "outputId": "824fc877-a340-47df-9ac7-3f0173ba9c1c"
      },
      "execution_count": 12,
      "outputs": [
        {
          "output_type": "error",
          "ename": "NameError",
          "evalue": "ignored",
          "traceback": [
            "\u001b[0;31m---------------------------------------------------------------------------\u001b[0m",
            "\u001b[0;31mNameError\u001b[0m                                 Traceback (most recent call last)",
            "\u001b[0;32m<ipython-input-12-01c3d47bca68>\u001b[0m in \u001b[0;36m<module>\u001b[0;34m()\u001b[0m\n\u001b[1;32m      1\u001b[0m \u001b[0ml\u001b[0m\u001b[0;34m=\u001b[0m\u001b[0;34m[\u001b[0m\u001b[0;36m1\u001b[0m\u001b[0;34m,\u001b[0m\u001b[0;36m2\u001b[0m\u001b[0;34m,\u001b[0m\u001b[0;36m3\u001b[0m\u001b[0;34m,\u001b[0m\u001b[0;36m4\u001b[0m\u001b[0;34m]\u001b[0m\u001b[0;34m\u001b[0m\u001b[0;34m\u001b[0m\u001b[0m\n\u001b[1;32m      2\u001b[0m \u001b[0;32mdel\u001b[0m \u001b[0ml\u001b[0m\u001b[0;34m\u001b[0m\u001b[0;34m\u001b[0m\u001b[0m\n\u001b[0;32m----> 3\u001b[0;31m \u001b[0mprint\u001b[0m\u001b[0;34m(\u001b[0m\u001b[0ml\u001b[0m\u001b[0;34m)\u001b[0m\u001b[0;34m\u001b[0m\u001b[0;34m\u001b[0m\u001b[0m\n\u001b[0m",
            "\u001b[0;31mNameError\u001b[0m: name 'l' is not defined"
          ]
        }
      ]
    },
    {
      "cell_type": "code",
      "source": [
        "l=[1,2,3,4]\n",
        "l.clear()\n",
        "print (l)"
      ],
      "metadata": {
        "colab": {
          "base_uri": "https://localhost:8080/"
        },
        "id": "jj0Ykss8UGU0",
        "outputId": "2f5b92c7-5052-46e7-c619-7be7208a625e"
      },
      "execution_count": 13,
      "outputs": [
        {
          "output_type": "stream",
          "name": "stdout",
          "text": [
            "[]\n"
          ]
        }
      ]
    },
    {
      "cell_type": "markdown",
      "source": [
        "**13)Difference between remove and pop?**\n",
        "\n",
        "**Remove**\n",
        "\n",
        "•It is a method.\n",
        "\n",
        "•To delete value this method uses the value as a parameter.\n",
        "\n",
        "•The remove()method doesn't return any value.\n",
        "\n",
        "•At a time it deletes only one value from the list.\n",
        "\n",
        "•It throws value error in case of value doesn't exit in the list.\n",
        "\n",
        "**POP()**\n",
        "\n",
        "•Pop()is a method\n",
        "\n",
        "•This method also uses the index as a parameter to delete.\n",
        "\n",
        "•pop()returns deleted value.\n",
        "\n",
        "•At a time it deletes only one value from the list.\n",
        "\n",
        "•It throws index error in case of an index doesn't exist in the list."
      ],
      "metadata": {
        "id": "Db1gvuLlUIk8"
      }
    },
    {
      "cell_type": "code",
      "source": [
        "l=[1,2,4,5,7,5]\n",
        "print(l.remove(5))\n",
        "l"
      ],
      "metadata": {
        "colab": {
          "base_uri": "https://localhost:8080/"
        },
        "id": "izea-q9XUNhl",
        "outputId": "8c67c2cf-fc40-45b8-ba4d-b1f64130d4b8"
      },
      "execution_count": 14,
      "outputs": [
        {
          "output_type": "stream",
          "name": "stdout",
          "text": [
            "None\n"
          ]
        },
        {
          "output_type": "execute_result",
          "data": {
            "text/plain": [
              "[1, 2, 4, 7, 5]"
            ]
          },
          "metadata": {},
          "execution_count": 14
        }
      ]
    },
    {
      "cell_type": "code",
      "source": [
        "print(l.pop())\n",
        "l"
      ],
      "metadata": {
        "colab": {
          "base_uri": "https://localhost:8080/"
        },
        "id": "ob7Pcw5wUPhu",
        "outputId": "fd132c00-9f4d-4eb3-ef01-fdb5fb68727d"
      },
      "execution_count": 15,
      "outputs": [
        {
          "output_type": "stream",
          "name": "stdout",
          "text": [
            "5\n"
          ]
        },
        {
          "output_type": "execute_result",
          "data": {
            "text/plain": [
              "[1, 2, 4, 7]"
            ]
          },
          "metadata": {},
          "execution_count": 15
        }
      ]
    },
    {
      "cell_type": "markdown",
      "source": [
        "**14)Difference between indexing and Slicing?**\n",
        "\n",
        "**Indexing**\n",
        "\n",
        "•Indexing returns one item.\n",
        "\n",
        "•Attempting to use an index that is too large will result in an indexError.\n",
        "\n",
        "•By item assignment in indexing,we can't change the length of the list.\n",
        "\n",
        "•Assignment to Indexing-We can assign a single element or an iterable.\n",
        "\n",
        "**Slicing**\n",
        "\n",
        "•Slicing returns new list/new tuple\n",
        "\n",
        "•Out of range indexes are handled gracefully when used for slicing\n",
        "\n",
        "•By assignment to slicing,we can change the length of the list or even clear the list.\n",
        "\n",
        "•Assignment to slicing-If we aasign a single element,it will raise TypeErtor.it will accept only iterable."
      ],
      "metadata": {
        "id": "7boSBzpoURrP"
      }
    },
    {
      "cell_type": "code",
      "source": [
        "a=[1,2,34,6,6,2]\n",
        "print(a[3])\n",
        "6"
      ],
      "metadata": {
        "colab": {
          "base_uri": "https://localhost:8080/"
        },
        "id": "3-5glT0iUaAo",
        "outputId": "06951031-ef9a-4399-fdbd-2cffd38c8293"
      },
      "execution_count": 16,
      "outputs": [
        {
          "output_type": "stream",
          "name": "stdout",
          "text": [
            "6\n"
          ]
        },
        {
          "output_type": "execute_result",
          "data": {
            "text/plain": [
              "6"
            ]
          },
          "metadata": {},
          "execution_count": 16
        }
      ]
    },
    {
      "cell_type": "code",
      "source": [
        "#Slicing\n",
        "print(a[1:4])"
      ],
      "metadata": {
        "colab": {
          "base_uri": "https://localhost:8080/"
        },
        "id": "BJbGJZIQUdt-",
        "outputId": "ec86c591-1f10-49d3-a322-13907a9e0583"
      },
      "execution_count": 17,
      "outputs": [
        {
          "output_type": "stream",
          "name": "stdout",
          "text": [
            "[2, 34, 6]\n"
          ]
        }
      ]
    },
    {
      "cell_type": "markdown",
      "source": [
        "**15)Difference between sort and sorted?**\n",
        "\n",
        "The main difference between sort() and sorted() is that the sorted() function takes any iterable (list, tuple, set, dictionary) and returns a new sorted object without affecting the original.\n",
        "\n",
        "sort() can only sort the list, but sorted() can sort list, tuple, or any other sequence type.\n",
        "\n",
        "\n",
        "**Sort()**\n",
        "\n",
        "•It modifies the list it is called on.That is,the sorted list is stored in the se list;a new list is not created.\n",
        "\n",
        "•It works on a list and modifies it.\n",
        "\n",
        "•It does not return anything (no return value).It modifies the list in place.\n",
        "\n",
        "**Sorted()**\n",
        "\n",
        "•It creates a new list containing a sorted version of the liat passed to it as argument.It does not modify the list passed as a parameter.\n",
        "\n",
        "•It can take any iterable sequence type etc,and it always returns a sorted list irrespective of the type of sequence passed to it.\n",
        "\n",
        "•It returns a newly created sorted list.It does not change the passed sequence."
      ],
      "metadata": {
        "id": "VEN7z6NlUgCx"
      }
    },
    {
      "cell_type": "code",
      "source": [
        "# Python Program\n",
        "# Sorted vs sort\n",
        "li = [3, 1, 2, 4]\n",
        "\n",
        "print(\"using Sorted function :\", sorted(li))\n",
        "\n",
        "print(\"list remains same :\", li)\n",
        "\n",
        "# sorting using sort method\n",
        "li.sort()\n",
        "print(\"List is changed and sorted :\", li)"
      ],
      "metadata": {
        "colab": {
          "base_uri": "https://localhost:8080/"
        },
        "id": "jz19qkvJUlvQ",
        "outputId": "c586b939-a86e-40eb-dde2-79549c47255f"
      },
      "execution_count": 19,
      "outputs": [
        {
          "output_type": "stream",
          "name": "stdout",
          "text": [
            "using Sorted function : [1, 2, 3, 4]\n",
            "list remains same : [3, 1, 2, 4]\n",
            "List is changed and sorted : [1, 2, 3, 4]\n"
          ]
        }
      ]
    },
    {
      "cell_type": "markdown",
      "source": [
        "**16) Difference between reverse and reversed?**\n",
        "\n",
        "**Reverse**\n",
        "\n",
        "•Reverse method is used to reverse the list.It will reverse the orignal list.\n",
        "\n",
        "•Return type is None.\n",
        "\n",
        "•Reverse method is supported only by lits.\n",
        "\n",
        "**Reversed**\n",
        "\n",
        "•Reversed()method returns an iterator the accesses the given sequence in the reverse order.\n",
        "\n",
        "•Return type is reversed iterator object.\n",
        "\n",
        "•Reversed function is supported by other iterables(string,tuple,dictionary)"
      ],
      "metadata": {
        "id": "K_P9X9oTV1cL"
      }
    },
    {
      "cell_type": "code",
      "source": [
        "a.reverse()\n",
        "print(a)"
      ],
      "metadata": {
        "colab": {
          "base_uri": "https://localhost:8080/"
        },
        "id": "cz8rt8VlV9mr",
        "outputId": "0b75c6aa-57e5-4158-8a4f-2f4852c7f551"
      },
      "execution_count": 20,
      "outputs": [
        {
          "output_type": "stream",
          "name": "stdout",
          "text": [
            "[5, 7, 6, 9, 4, 3, 2, 1]\n"
          ]
        }
      ]
    },
    {
      "cell_type": "code",
      "source": [
        "reversed(a)\n",
        "print(a)"
      ],
      "metadata": {
        "colab": {
          "base_uri": "https://localhost:8080/"
        },
        "id": "8R0Qp_ShWJxD",
        "outputId": "dba1c175-8c88-459b-d8c8-3e99514d9e46"
      },
      "execution_count": 21,
      "outputs": [
        {
          "output_type": "stream",
          "name": "stdout",
          "text": [
            "[5, 7, 6, 9, 4, 3, 2, 1]\n"
          ]
        }
      ]
    },
    {
      "cell_type": "markdown",
      "source": [
        "**17)Difference between copy and deep copy?**\n",
        "\n",
        "**Copy**\n",
        "\n",
        "•Copy stores the references of objects to the original memory address.\n",
        "\n",
        "•Copy reflects changes made to the new/copied object in the original object.\n",
        "\n",
        "•Copy stores the copy of the original object and points the references to the objects.\n",
        "\n",
        "•copy is faster.\n",
        "\n",
        "**Deep copy**\n",
        "\n",
        "•Deep copy stores copies of the object’s value.\n",
        "\n",
        "•Deep copy doesn’t reflect changes made to the new/copied object in the original object.\n",
        "\n",
        "•Deep copy stores the copy of the original object and recursively copies the objects as well.\n",
        "\n",
        "•Deep copy is comparatively slower."
      ],
      "metadata": {
        "id": "UgwR0SIPWTKV"
      }
    },
    {
      "cell_type": "code",
      "source": [
        "import copy\n",
        "a= [1,2,3,4,5]\n",
        "\n",
        "a1=copy.copy(a)\n",
        "\n",
        "print(a)\n",
        "print(a1)\n",
        "print(id(a))\n",
        "print(id(a1))\n",
        "\n",
        "a1[0]= 45\n",
        "print(a)\n",
        "print(a1)\n",
        "print(id(a1))"
      ],
      "metadata": {
        "colab": {
          "base_uri": "https://localhost:8080/"
        },
        "id": "YmfBsA9KWYV5",
        "outputId": "419cf25e-f0e7-48c4-e0d2-2c3d30701561"
      },
      "execution_count": 22,
      "outputs": [
        {
          "output_type": "stream",
          "name": "stdout",
          "text": [
            "[1, 2, 3, 4, 5]\n",
            "[1, 2, 3, 4, 5]\n",
            "140193474905984\n",
            "140193475011600\n",
            "[1, 2, 3, 4, 5]\n",
            "[45, 2, 3, 4, 5]\n",
            "140193475011600\n"
          ]
        }
      ]
    },
    {
      "cell_type": "code",
      "source": [
        "a = [10,12,15,14,16]\n",
        "\n",
        "a1=copy.deepcopy(a)\n",
        "\n",
        "print(a)\n",
        "print(a1)\n",
        "print(id(a))\n",
        "print(id(a1))\n",
        "\n",
        "a1[0]= 477\n",
        "print(a)\n",
        "print(a1)"
      ],
      "metadata": {
        "colab": {
          "base_uri": "https://localhost:8080/"
        },
        "id": "X9GDXNq4WfF6",
        "outputId": "8f533bf2-0de6-46e7-87c1-9ce81e8edfbd"
      },
      "execution_count": 24,
      "outputs": [
        {
          "output_type": "stream",
          "name": "stdout",
          "text": [
            "[10, 12, 15, 14, 16]\n",
            "[10, 12, 15, 14, 16]\n",
            "140193438539856\n",
            "140193438540016\n",
            "[10, 12, 15, 14, 16]\n",
            "[477, 12, 15, 14, 16]\n"
          ]
        }
      ]
    },
    {
      "cell_type": "markdown",
      "source": [
        "**18)How to check whether the list is empty or not?**"
      ],
      "metadata": {
        "id": "K4n_Z5HrWnBc"
      }
    },
    {
      "cell_type": "code",
      "source": [
        "a=[1,2,3,4,5] # Empty lists evaluate to False\n",
        ">>> if not a:\n",
        "    print (\"list is empty\")\n",
        "else:\n",
        "    print (\"list is not empty\")"
      ],
      "metadata": {
        "colab": {
          "base_uri": "https://localhost:8080/"
        },
        "id": "leCoYK5wWo8N",
        "outputId": "c0c0a525-5dbc-483d-9f11-6133984392ad"
      },
      "execution_count": 25,
      "outputs": [
        {
          "output_type": "stream",
          "name": "stdout",
          "text": [
            "list is not empty\n"
          ]
        }
      ]
    },
    {
      "cell_type": "code",
      "source": [
        "if len(a)==0:\n",
        "    print (\"list is empty\")\n",
        "else:\n",
        "    print (\"list is not empty\")"
      ],
      "metadata": {
        "colab": {
          "base_uri": "https://localhost:8080/"
        },
        "id": "XZhTOQt2Ww1v",
        "outputId": "bdebf99c-781f-4e6e-bade-cca9b291ccc2"
      },
      "execution_count": 26,
      "outputs": [
        {
          "output_type": "stream",
          "name": "stdout",
          "text": [
            "list is not empty\n"
          ]
        }
      ]
    },
    {
      "cell_type": "markdown",
      "source": [
        "**19)How to concatenate two lists?**"
      ],
      "metadata": {
        "id": "RO3BZtCFWzP2"
      }
    },
    {
      "cell_type": "code",
      "source": [
        "#Concatenation Operator(+)\n",
        "list_one = [0, 1, 2, 3, 4]\n",
        "list_two = [5, 6, 7, 8, 9]\n",
        "\n",
        "# add two lists using + operator\n",
        "result = list_one + list_two\n",
        "\n",
        "print(result)"
      ],
      "metadata": {
        "colab": {
          "base_uri": "https://localhost:8080/"
        },
        "id": "FaayNE-HW1IL",
        "outputId": "53c10b98-4cf4-4834-ecff-88f61e2bf2f1"
      },
      "execution_count": 27,
      "outputs": [
        {
          "output_type": "stream",
          "name": "stdout",
          "text": [
            "[0, 1, 2, 3, 4, 5, 6, 7, 8, 9]\n"
          ]
        }
      ]
    },
    {
      "cell_type": "markdown",
      "source": [
        "**20)How to find the occurrences of an element in the python list?**"
      ],
      "metadata": {
        "id": "6YLJ6yTHW7G7"
      }
    },
    {
      "cell_type": "code",
      "source": [
        "#Using count operator\n",
        "my_list = [3,1,8,1,3,1,7,3,10,1,1,3]\n",
        "\n",
        "#using count()\n",
        "count = my_list.count(1)\n",
        "\n",
        "print(\"Count of 1 in my list is:\", count)"
      ],
      "metadata": {
        "colab": {
          "base_uri": "https://localhost:8080/"
        },
        "id": "B2xIDJk_W9HD",
        "outputId": "89f1b518-fa4e-4e1f-a186-1002720a5f0b"
      },
      "execution_count": 28,
      "outputs": [
        {
          "output_type": "stream",
          "name": "stdout",
          "text": [
            "Count of 1 in my list is: 5\n"
          ]
        }
      ]
    },
    {
      "cell_type": "markdown",
      "source": [
        "**21)How to flatten a list in python?**"
      ],
      "metadata": {
        "id": "Gu2U2JKgXBjM"
      }
    },
    {
      "cell_type": "code",
      "source": [
        "# Using loop\n",
        "# initializing the data and an empty list\n",
        "data = [[1, 2, 3], [4, 5], [6, 7, 8, 9, 10]]\n",
        "flat_list = []\n",
        "\n",
        "for item in data: # appending elements to the flat_list\n",
        "    flat_list += item # printing the flat_list\n",
        "print(flat_list)"
      ],
      "metadata": {
        "colab": {
          "base_uri": "https://localhost:8080/"
        },
        "id": "KFF78tfJXDiz",
        "outputId": "4153122b-0ae3-42c9-d7b1-875bb338241d"
      },
      "execution_count": 29,
      "outputs": [
        {
          "output_type": "stream",
          "name": "stdout",
          "text": [
            "[1, 2, 3, 4, 5, 6, 7, 8, 9, 10]\n"
          ]
        }
      ]
    }
  ]
}