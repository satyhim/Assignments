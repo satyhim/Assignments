{
  "nbformat": 4,
  "nbformat_minor": 0,
  "metadata": {
    "colab": {
      "name": "Copy of Copy of Copy of Untitled4.ipynb",
      "provenance": [],
      "include_colab_link": true
    },
    "kernelspec": {
      "name": "python3",
      "display_name": "Python 3"
    },
    "language_info": {
      "name": "python"
    }
  },
  "cells": [
    {
      "cell_type": "markdown",
      "metadata": {
        "id": "view-in-github",
        "colab_type": "text"
      },
      "source": [
        "<a href=\"https://colab.research.google.com/github/satyhim/Assignments/blob/main/2_ATM_System_Project.ipynb\" target=\"_parent\"><img src=\"https://colab.research.google.com/assets/colab-badge.svg\" alt=\"Open In Colab\"/></a>"
      ]
    },
    {
      "cell_type": "markdown",
      "source": [
        "**ATM System (Command line)**\n",
        "\n",
        "Enter your card valid card check all are numbers? ---> (Take inputs)\n",
        "\n",
        "**1. Display menu(Withdrawal, saving, current, other)**\n",
        "\n",
        "**2. Other**\n",
        "\n",
        "a. PIN change, Block card\n",
        "\n",
        "**3. Withdrawal**\n",
        "\n",
        "a. Enter the amount to withdrawal in terms of 200 RS\n",
        "\n",
        "b. Check balance info\n",
        "\n",
        "c. If balance low then display Error message (Low balance)\n",
        "\n",
        "d. exit()\n",
        "\n",
        "e. Thank you\n",
        "\n",
        "Else:\n",
        "\n",
        "Update the remaining balance\n",
        "\n",
        "Write the balance in file.csv (name, account number, balance account type) Display message of successful transaction exit()\n",
        "\n",
        "**4. PIN Exchange**\n",
        "\n",
        "a. Enter card\n",
        "\n",
        "b. Enter the OTP\n",
        "\n",
        "c. Validate the OTP and mobile number\n",
        "\n",
        "d. Update the pin (as of now write it in csv file)file.csv (name, account number, balance account type, PIN)\n",
        "\n",
        "e. Display message of successful pin change\n",
        "\n",
        "f. Exit()\n",
        "\n",
        "**5. Block Card**\n",
        "\n",
        "a. Enter card number\n",
        "\n",
        "b. Enter the OTP\n",
        "\n",
        "c. Validate the OTP and mobile number\n",
        "\n",
        "d. Update the access field in csv to BLOCK ile.csv (name, account number, balance account type, PIN, access)\n",
        "\n",
        "e. Display successful message\n",
        "\n",
        "f. exit"
      ],
      "metadata": {
        "id": "rxiecdNk-dSo"
      }
    },
    {
      "cell_type": "code",
      "source": [
        "print(\"**************************************************\")\n",
        "print(\"Welcome to Bank of india\\n\\nPlease insert your card\\n\")\n",
        "\n",
        "password = 8800\n",
        "\n",
        "pin = int(input(\"Enter your four digit pin number\\n\"))\n",
        "print('***********************************************************')\n",
        "def menu():\n",
        "    print(\"1]Saving \")\n",
        "    print(\"2]Withdraw \")\n",
        "    print(\"3]Current \")\n",
        "    print(\"4]Other\")\n",
        "menu()\n",
        "option = int(input(\"Enter your option:\"))\n",
        "\n",
        "while option != 0:\n",
        "  if option == 1:\n",
        "      print(\"Saving\")\n",
        "  elif option == 2:\n",
        "    print(\"Withdraw\") \n",
        "  elif option == 3:\n",
        "    print(\"Current\") \n",
        "  elif option == 4:\n",
        "    print(\"Other\")\n",
        "    print(\"1. PIN change\\n2. Block card\") \n",
        "  else:\n",
        "    print(\"Invalid option\") \n",
        "  break\n",
        "  print()\n",
        "  print(\"Thanks for using this program. Goodbye.\")\n"
      ],
      "metadata": {
        "colab": {
          "base_uri": "https://localhost:8080/"
        },
        "id": "rEI5mxCprMsY",
        "outputId": "8a1781bc-20a9-4491-dad1-564bbb942f3b"
      },
      "execution_count": null,
      "outputs": [
        {
          "output_type": "stream",
          "name": "stdout",
          "text": [
            "**************************************************\n",
            "Welcome to Bank of india\n",
            "\n",
            "Please insert your card\n",
            "\n",
            "Enter your four digit pin number\n",
            "8800\n",
            "***********************************************************\n",
            "1]Saving \n",
            "2]Withdraw \n",
            "3]Current \n",
            "4]Other\n",
            "Enter your option:4\n",
            "Other\n",
            "1. PIN change\n",
            "2. Block card\n"
          ]
        }
      ]
    },
    {
      "cell_type": "code",
      "source": [
        "menu()"
      ],
      "metadata": {
        "colab": {
          "base_uri": "https://localhost:8080/"
        },
        "id": "-dLQ6hST3aBD",
        "outputId": "6c22a226-de6d-4615-9fc3-93e6c6c3fdf1"
      },
      "execution_count": null,
      "outputs": [
        {
          "output_type": "stream",
          "name": "stdout",
          "text": [
            "1]Saving \n",
            "2]Withdraw \n",
            "3]Current \n",
            "4]Other\n"
          ]
        }
      ]
    },
    {
      "cell_type": "code",
      "source": [
        "def withdrawal():\n",
        "\n",
        "\n",
        "#if put some amount in account\n",
        "\n",
        "  balance = 20000\n",
        "  print(\"\\n Your Account Balance is :\", balance)\n",
        "# we will ask the customer how much money they want to withdrawal.\n",
        "\n",
        "  w = eval(input (\"\\n Please Enter Amount\\n(Cash Available:Rs 100,Rs 200,Rs 500,Rs 2000,Rs 1000: \" ))\n",
        "#and aslo check the balance. \n",
        "#Entered amount must be less than account balance.  \n",
        "  if w %200 == 0:\n",
        "      if w<=balance:\n",
        "        z = balance-w\n",
        "        print(\"\\n Transaction is Succesful\",w,\"withdrawn Remeaning balance is:\",z,\"\\n\")\n",
        "        print(\"\\n Thank you. Come Again \\n\")\n",
        "      else:\n",
        "        print(\"\\n Insufficient Balance \\n\")\n",
        "        exit\n",
        "       \n",
        "      return"
      ],
      "metadata": {
        "id": "PxNiazlxlMZi"
      },
      "execution_count": null,
      "outputs": []
    },
    {
      "cell_type": "code",
      "source": [
        "withdrawal()"
      ],
      "metadata": {
        "colab": {
          "base_uri": "https://localhost:8080/"
        },
        "id": "9yrRep3olPSi",
        "outputId": "e7298d24-bf08-429c-ca79-2c68ffb95701"
      },
      "execution_count": null,
      "outputs": [
        {
          "output_type": "stream",
          "name": "stdout",
          "text": [
            "\n",
            " Your Account Balance is : 20000\n",
            "\n",
            " Please Enter Amount\n",
            "(Cash Available:Rs 100,Rs 200,Rs 500,Rs 2000,Rs 1000: 5000\n",
            "\n",
            " Transaction is Succesful 5000 withdrawn Remeaning balance is: 15000 \n",
            "\n",
            "\n",
            " Thank you. Come Again \n",
            "\n"
          ]
        }
      ]
    },
    {
      "cell_type": "code",
      "source": [
        "def pin_exchange():\n",
        "  import random\n",
        "\n",
        "  card_number = int (input(\"Enter card number :\"))\n",
        "\n",
        "  OTP = random.randint(0000,9999)\n",
        "  print(OTP)\n",
        "\n",
        "  enter_OTP =eval(input((\"Enter OTP Send To Your Registered Mobile Number :\")))\n",
        "  if OTP == enter_OTP:\n",
        "\n",
        "      old_pin =int(input(\"Enter your old pin :\"))\n",
        "      new_pin =int(input(\"Enter your new pin :\"))\n",
        "      x= old_pin\n",
        "      y = new_pin\n",
        "\n",
        "      if x == y:\n",
        "        print(\"Enter pin is same as old pin\")\n",
        "        print(\"Try Different Pin\")\n",
        "        exit()\n",
        "      else:\n",
        "        print(\"Pin changed Successfully \")\n",
        "        print(\"Your new pin is :\",y)\n",
        "\n",
        "\n",
        "  else:\n",
        "    print(\"Entered OTP did not Match , Try Again \")\n",
        "    print(\"Thank you\")\n",
        "    exit()"
      ],
      "metadata": {
        "id": "s6xw7Lotc9hc"
      },
      "execution_count": null,
      "outputs": []
    },
    {
      "cell_type": "code",
      "source": [
        "pin_exchange()"
      ],
      "metadata": {
        "colab": {
          "base_uri": "https://localhost:8080/"
        },
        "id": "-wRfjqKDsWck",
        "outputId": "4802f362-c376-4999-c229-0792d1c53159"
      },
      "execution_count": null,
      "outputs": [
        {
          "output_type": "stream",
          "name": "stdout",
          "text": [
            "Enter card number :984763\n",
            "8146\n",
            "Enter OTP Send To Your Registered Mobile Number :8146\n",
            "Enter your old pin :2341\n",
            "Enter your new pin :1234\n",
            "Pin changed Successfully \n",
            "Your new pin is : 1234\n"
          ]
        }
      ]
    },
    {
      "cell_type": "code",
      "source": [
        "\n",
        "def block_card():\n",
        "  card_number = input (\"Enter Your Card Number : \")\n",
        "  import random\n",
        "  OTP = random.randint(1000,9999)\n",
        "  print(OTP)\n",
        "  My_OTP = int(input(\"Enter recived OTP your Registered mobile number :\"))\n",
        "\n",
        "  #match the otp\n",
        "\n",
        "  if OTP !=My_OTP:\n",
        "    print(\"Entered OTP did not match \")\n",
        "    print(\"Try Again\")\n",
        "    return\n",
        "    print(\"********************************************************************************\")\n",
        "  mobile_number = input(\"Enter Your Mobile Number :\")\n",
        "  print(\"\\n Your card number is :\",card_number,\"And your Mobile Numer is :\",mobile_number)\n",
        "  print(\"**********************************************************************************\")\n",
        "  #conformation from customer to block card\n",
        "  print(\"**********************************************************************************\") \n",
        "  print(\" To Conform Entered Details enter \\'1\\' otherwise enter \\'0\\'\")\n",
        "  conform = int(input(\"\"))\n",
        "  if conform ==1:\n",
        "    print(\"Your card will be blocked in 24 Hours\")\n",
        "    print(\"you can request for new card from your Regiestered Mobile Number.\")\n",
        "    print(\"********************************************************************************\")\n",
        "  elif conform == 0:\n",
        "    print(\"Sorry your card will not be blocked.\")"
      ],
      "metadata": {
        "id": "-JHCyzc84jCq"
      },
      "execution_count": null,
      "outputs": []
    },
    {
      "cell_type": "code",
      "source": [
        "block_card()\n",
        "\n"
      ],
      "metadata": {
        "colab": {
          "base_uri": "https://localhost:8080/"
        },
        "id": "zFnNEK1S-UZf",
        "outputId": "3a9f7dcc-bb74-427d-a9a0-c96a6a65e72d"
      },
      "execution_count": null,
      "outputs": [
        {
          "output_type": "stream",
          "name": "stdout",
          "text": [
            "Enter Your Card Number : 87234567\n",
            "6361\n",
            "Enter recived OTP your Registered mobile number :6361\n",
            "Enter Your Mobile Number :7658942356\n",
            "\n",
            " Your card number is : 87234567 And your Mobile Numer is : 7658942356\n",
            "**********************************************************************************\n",
            "**********************************************************************************\n",
            " To Conform Entered Details enter '1' otherwise enter '0'\n",
            "1\n",
            "Your card will be blocked in 24 Hours\n",
            "you can request for new card from your Regiestered Mobile Number.\n",
            "********************************************************************************\n"
          ]
        }
      ]
    },
    {
      "cell_type": "markdown",
      "source": [
        "**ATM system**"
      ],
      "metadata": {
        "id": "-I6RR12aZe5H"
      }
    },
    {
      "cell_type": "code",
      "source": [
        "Name = input(\" Enter Your Name : \")\n",
        "password= input('\\n Inter your password:')\n",
        "print(\"****************************************************************\")\n",
        "print(\"****************************************************************\")\n",
        "action = input(\"Enter the action You want to take :\" )\n",
        "menu()\n",
        "if action == 'menu':\n",
        "  print()\n",
        "print(\"****************************************************************\")\n",
        "print(\"****************************************************************\")\n",
        "if action == \"Withdrawal\":\n",
        "  print()\n",
        "  exit()\n",
        "withdrawal()\n",
        "print(\"****************************************************************\")\n",
        "print(\"****************************************************************\")\n",
        "if action ==\"Pin Change\":\n",
        "  print()\n",
        "pin_exchange()\n",
        "print(\"****************************************************************\")\n",
        "print(\"****************************************************************\")\n",
        "if action == \"Block Card\":  \n",
        "   print()\n",
        "block_card()\n",
        "print(\"****************************************************************\")\n",
        "\n",
        "if action == \"Other\":\n",
        "  print(\"YOu can reach us on 18001801452\")\n",
        "  print(\"thank you\")\n",
        "print(\"****************************************************************\")\n"
      ],
      "metadata": {
        "colab": {
          "base_uri": "https://localhost:8080/"
        },
        "id": "4ygmYAsTNr87",
        "outputId": "78ee7370-c203-42b7-b65e-176c0c1a2a36"
      },
      "execution_count": null,
      "outputs": [
        {
          "output_type": "stream",
          "name": "stdout",
          "text": [
            " Enter Your Name : sushil\n",
            "\n",
            " Inter your password:8800\n",
            "****************************************************************\n",
            "****************************************************************\n",
            "Enter the action You want to take :menu\n",
            "1]Saving \n",
            "2]Withdraw \n",
            "3]Current \n",
            "4]Other\n",
            "\n",
            "****************************************************************\n",
            "****************************************************************\n",
            "\n",
            " Your Account Balance is : 20000\n",
            "\n",
            " Please Enter Amount\n",
            "(Cash Available:Rs 100,Rs 200,Rs 500,Rs 2000,Rs 1000: 5000\n",
            "\n",
            " Transaction is Succesful 5000 withdrawn Remeaning balance is: 15000 \n",
            "\n",
            "\n",
            " Thank you. Come Again \n",
            "\n",
            "****************************************************************\n",
            "****************************************************************\n",
            "Enter card number :98762345\n",
            "7730\n",
            "Enter OTP Send To Your Registered Mobile Number :7730\n",
            "Enter your old pin :2341\n",
            "Enter your new pin :1234\n",
            "Pin changed Successfully \n",
            "Your new pin is : 1234\n",
            "****************************************************************\n",
            "****************************************************************\n",
            "Enter Your Card Number : 98723456\n",
            "8570\n",
            "Enter recived OTP your Registered mobile number :8570\n",
            "Enter Your Mobile Number :786954323\n",
            "\n",
            " Your card number is : 98723456 And your Mobile Numer is : 786954323\n",
            "**********************************************************************************\n",
            "**********************************************************************************\n",
            " To Conform Entered Details enter '1' otherwise enter '0'\n",
            "1\n",
            "Your card will be blocked in 24 Hours\n",
            "you can request for new card from your Regiestered Mobile Number.\n",
            "********************************************************************************\n",
            "****************************************************************\n",
            "****************************************************************\n"
          ]
        }
      ]
    }
  ]
}